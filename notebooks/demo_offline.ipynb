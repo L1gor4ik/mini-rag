{
 "cells": [
  {
   "cell_type": "code",
   "execution_count": 1,
   "id": "14291fee",
   "metadata": {},
   "outputs": [
    {
     "name": "stdout",
     "output_type": "stream",
     "text": [
      "✓ рабочая dir: C:\\Users\\gorde\\Downloads\\mini-rag\n",
      "✓ src в sys.path: C:\\Users\\gorde\\Downloads\\mini-rag\\src\n",
      "✓ data/ [WindowsPath('C:/Users/gorde/Downloads/mini-rag/data/rust_faq.csv'), WindowsPath('C:/Users/gorde/Downloads/mini-rag/data/rust_faq.index')]\n"
     ]
    }
   ],
   "source": [
    "# ---- НАСТРОЙКА ПУТЕЙ ---------------------------------------------------------\n",
    "import os, pathlib, sys\n",
    "\n",
    "# kernel стартует в notebooks/, а CSV лежит на уровень выше -> /data/\n",
    "project_root = pathlib.Path().resolve().parent          # notebooks/..  = mini-rag\n",
    "data_dir      = project_root / \"data\"\n",
    "src_dir       = project_root / \"src\"\n",
    "\n",
    "# 1) чтобы build_index() видел CSV\n",
    "os.chdir(project_root)          # рабочая папка = корень проекта\n",
    "\n",
    "# 2) чтобы работал   from rag_pipeline import ...\n",
    "if src_dir.as_posix() not in map(str, sys.path):\n",
    "    sys.path.insert(0, str(src_dir))\n",
    "\n",
    "print(\"✓ рабочая dir:\", pathlib.Path().cwd())\n",
    "print(\"✓ src в sys.path:\", src_dir)\n",
    "print(\"✓ data/\", list(data_dir.iterdir())[:3])\n"
   ]
  },
  {
   "cell_type": "code",
   "execution_count": 2,
   "id": "c87eee61",
   "metadata": {},
   "outputs": [
    {
     "name": "stdout",
     "output_type": "stream",
     "text": [
      "src добавлен в sys.path: C:\\Users\\gorde\\Downloads\\mini-rag\\src\n"
     ]
    }
   ],
   "source": [
    "import sys, pathlib, os\n",
    "\n",
    "# <корень проекта>/src   →  в поисковый путь\n",
    "project_root = pathlib.Path().resolve().parent    # notebooks/..  = mini-rag\n",
    "src_path = project_root / \"src\"\n",
    "if str(src_path) not in sys.path:\n",
    "    sys.path.insert(0, str(src_path))\n",
    "\n",
    "print(\"src добавлен в sys.path:\", src_path)\n"
   ]
  },
  {
   "cell_type": "code",
   "execution_count": 4,
   "id": "24180117",
   "metadata": {},
   "outputs": [
    {
     "name": "stderr",
     "output_type": "stream",
     "text": [
      "Batches: 100%|██████████| 1/1 [00:00<00:00,  7.70it/s]"
     ]
    },
    {
     "name": "stdout",
     "output_type": "stream",
     "text": [
      "Index built/updated -> data/rust_faq.index\n",
      "You are a Rust helper. Use the context below to answer.\n",
      "\n",
      "Context:\n",
      "Да, Rust компилируется в машинный код через LLVM, обеспечивая производительность, сравнимую с C и C++.\n",
      "\n",
      "Rust гарантирует безопасность  ...\n"
     ]
    },
    {
     "name": "stderr",
     "output_type": "stream",
     "text": [
      "\n"
     ]
    }
   ],
   "source": [
    "# ── правильная ячейка ─────────────────────────────────────────────\n",
    "from rag_pipeline import build_index, answer\n",
    "\n",
    "build_index()                                        # пересоздаём индекс\n",
    "print(answer(\"Чем Rust отличается от C++?\"))         # задаём вопрос\n",
    "# ───────────────────────────────────────────────────────────────────\n"
   ]
  },
  {
   "cell_type": "code",
   "execution_count": 5,
   "id": "4feb7d0d",
   "metadata": {},
   "outputs": [
    {
     "name": "stdout",
     "output_type": "stream",
     "text": [
      "True\n",
      "[WindowsPath('data/rust_faq.index/chroma.sqlite3')]\n"
     ]
    }
   ],
   "source": [
    "import pathlib, os\n",
    "print(os.path.exists(\"data/rust_faq.index\"))          # → True\n",
    "print(list(pathlib.Path(\"data/rust_faq.index\").iterdir())[:3])  # покажет файлы\n"
   ]
  }
 ],
 "metadata": {
  "kernelspec": {
   "display_name": "venv",
   "language": "python",
   "name": "python3"
  },
  "language_info": {
   "codemirror_mode": {
    "name": "ipython",
    "version": 3
   },
   "file_extension": ".py",
   "mimetype": "text/x-python",
   "name": "python",
   "nbconvert_exporter": "python",
   "pygments_lexer": "ipython3",
   "version": "3.13.5"
  }
 },
 "nbformat": 4,
 "nbformat_minor": 5
}
